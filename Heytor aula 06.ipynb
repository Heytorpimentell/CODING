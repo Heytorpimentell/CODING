{
 "cells": [
  {
   "cell_type": "code",
   "execution_count": 11,
   "metadata": {},
   "outputs": [
    {
     "data": {
      "text/plain": [
       "10"
      ]
     },
     "execution_count": 11,
     "metadata": {},
     "output_type": "execute_result"
    }
   ],
   "source": [
    "dias = [3,1,10] #Listas, elemento 0 é 1, elemento 1 é o 1, elemento 2 é o 10\n",
    "dias[0]\n",
    "#3\n",
    "dias[1]\n",
    "#1\n",
    "dias[2]\n",
    "#10"
   ]
  },
  {
   "cell_type": "code",
   "execution_count": 18,
   "metadata": {},
   "outputs": [
    {
     "data": {
      "text/plain": [
       "[7, 8, 9]"
      ]
     },
     "execution_count": 18,
     "metadata": {},
     "output_type": "execute_result"
    }
   ],
   "source": [
    "z = [3,8,9]\n",
    "z[0] = 7 #troca o índice 0 pelo elemento 7, HOUVE A TROCA DE ELEMENTOS\n",
    "z"
   ]
  },
  {
   "cell_type": "code",
   "execution_count": 22,
   "metadata": {},
   "outputs": [
    {
     "name": "stdout",
     "output_type": "stream",
     "text": [
      "True\n",
      "True\n",
      "[5, 7, 5, 8, 9]\n",
      "[5, 7, 5, 8, 9]\n"
     ]
    }
   ],
   "source": [
    "V = [6,7,5,8,9]\n",
    "L = V \n",
    "print(V==L) #comparando conteúdo, se V é igual a L\n",
    "print(V is L) # Analisando se contém o mesmo espaço na memória\n",
    "V[0] = 5\n",
    "print(V)\n",
    "print(L) #V e L tem o mesmo espaço na memória"
   ]
  },
  {
   "cell_type": "code",
   "execution_count": 30,
   "metadata": {},
   "outputs": [
    {
     "name": "stdout",
     "output_type": "stream",
     "text": [
      "True\n",
      "False\n",
      "[81, 82, 83]\n",
      "[5, 82, 83]\n"
     ]
    }
   ],
   "source": [
    "A = [81,82,83]\n",
    "B = A[:]\n",
    "print(A == B)\n",
    "print(A is B)\n",
    "B [0] = 5\n",
    "print(A)\n",
    "print(B)"
   ]
  },
  {
   "cell_type": "code",
   "execution_count": 35,
   "metadata": {},
   "outputs": [
    {
     "name": "stdout",
     "output_type": "stream",
     "text": [
      "['b', 'c']\n",
      "['a', 'b', 'c', 'd']\n",
      "['d', 'e', 'f', 'g']\n",
      "['a', 'b', 'c', 'd', 'e', 'f', 'g']\n"
     ]
    }
   ],
   "source": [
    "L = ['a','b','c','d','e','f','g']\n",
    "print(L[1:3]) #Vai do 1 até o 3 porém ele não inclui o elemento 3, intervalo fechado: Inclui o primeiro e exclui o ultimo!\n",
    "print(L[:4]) #Vai do começo até elemento 4\n",
    "print(L[3:])#elemento definido irá até o final\n",
    "print(L[:])"
   ]
  },
  {
   "cell_type": "code",
   "execution_count": 36,
   "metadata": {},
   "outputs": [
    {
     "ename": "NameError",
     "evalue": "name 'a' is not defined",
     "output_type": "error",
     "traceback": [
      "\u001b[1;31m---------------------------------------------------------------------------\u001b[0m",
      "\u001b[1;31mNameError\u001b[0m                                 Traceback (most recent call last)",
      "Cell \u001b[1;32mIn[36], line 4\u001b[0m\n\u001b[0;32m      2\u001b[0m B \u001b[38;5;241m=\u001b[39m A[:]\n\u001b[0;32m      3\u001b[0m B[\u001b[38;5;241m0\u001b[39m] \u001b[38;5;241m=\u001b[39m \u001b[38;5;241m5\u001b[39m\n\u001b[1;32m----> 4\u001b[0m \u001b[38;5;28mprint\u001b[39m(\u001b[43ma\u001b[49m[\u001b[38;5;241m3\u001b[39m])\n",
      "\u001b[1;31mNameError\u001b[0m: name 'a' is not defined"
     ]
    }
   ],
   "source": [
    "A = [1,2,3]\n",
    "B = A[:]\n",
    "B[0] = 5\n",
    "print(a[3]) #Erro pois nao existe o ídice 3\n"
   ]
  },
  {
   "cell_type": "code",
   "execution_count": 56,
   "metadata": {},
   "outputs": [
    {
     "ename": "TypeError",
     "evalue": "list indices must be integers or slices, not tuple",
     "output_type": "error",
     "traceback": [
      "\u001b[1;31m---------------------------------------------------------------------------\u001b[0m",
      "\u001b[1;31mTypeError\u001b[0m                                 Traceback (most recent call last)",
      "Cell \u001b[1;32mIn[56], line 2\u001b[0m\n\u001b[0;32m      1\u001b[0m MinhaLista \u001b[38;5;241m=\u001b[39m [\u001b[38;5;241m73\u001b[39m, \u001b[38;5;241m92.3\u001b[39m, \u001b[38;5;124m'\u001b[39m\u001b[38;5;124moi\u001b[39m\u001b[38;5;124m'\u001b[39m, \u001b[38;5;28;01mTrue\u001b[39;00m, \u001b[38;5;241m4\u001b[39m, \u001b[38;5;241m76\u001b[39m]\n\u001b[1;32m----> 2\u001b[0m \u001b[43mMinhaLista\u001b[49m\u001b[43m[\u001b[49m\u001b[38;5;241;43m4\u001b[39;49m\u001b[43m,\u001b[49m\u001b[43m \u001b[49m\u001b[38;5;241;43m5\u001b[39;49m\u001b[43m]\u001b[49m \u001b[38;5;241m=\u001b[39m \u001b[38;5;124m'\u001b[39m\u001b[38;5;124mpitomba\u001b[39m\u001b[38;5;124m'\u001b[39m, \u001b[38;5;241m76\u001b[39m\n",
      "\u001b[1;31mTypeError\u001b[0m: list indices must be integers or slices, not tuple"
     ]
    }
   ],
   "source": [
    "MinhaLista = [73, 92.3, 'oi', True, 4, 76]\n",
    "MinhaLista[4, 5] = 'pitomba' 76 #NÃO TEM COMO FAZER RESPECTIVAMENTE"
   ]
  },
  {
   "cell_type": "code",
   "execution_count": 60,
   "metadata": {},
   "outputs": [
    {
     "data": {
      "text/plain": [
       "[76, 92.3, 'oi', True, 4, 76, 'pitomba', 76]"
      ]
     },
     "execution_count": 60,
     "metadata": {},
     "output_type": "execute_result"
    }
   ],
   "source": [
    "#A\n",
    "MinhaLista = [76, 92.3, 'oi', True, 4, 76]\n",
    "Inserirvalor = ['pitomba', 76]\n",
    "MinhaLista + Inserirvalor"
   ]
  },
  {
   "cell_type": "code",
   "execution_count": 75,
   "metadata": {},
   "outputs": [
    {
     "data": {
      "text/plain": [
       "[76, 92.3, 'oi', 'Cibele', 'pitomba', 76]"
      ]
     },
     "execution_count": 75,
     "metadata": {},
     "output_type": "execute_result"
    }
   ],
   "source": [
    "#A\n",
    "MinhaLista = [76, 92.3, 'oi', True, 4, 76]\n",
    "Inserirvalor = ['pitomba', 76]\n",
    "MinhaLista + Inserirvalor\n",
    "\n",
    "#B\n",
    "MinhaLista = [76, 92.3, 'oi', True, 4, 76]\n",
    "NovaLista = ['Cibele']\n",
    "\n",
    "MinhaLista[:2 and 3:] + NovaLista[:] + Inserirvalor #Inserindo o valor no indice 3, REALIZEI COM CRIAÇÃO DE LISTA\n",
    "\n",
    "#C\n",
    "MinhaLista = [76, 92.3, 'oi', True, 4, 76]\n",
    "NovaLista = [99]\n",
    "\n",
    "NovaLista[:] + MinhaLista[1:3] + Inserirvalor #Inserindo o valor no indice 0, REALIZEI COM CRIAÇÃO DE LISTA\n",
    "\n",
    "#D\n",
    "MinhaLista = [76, 92.3, 'oi', True, 4, 76]\n",
    "if(MinhaLista[0] == 'oi'):\n",
    "    print('O indice é zero')\n",
    "elif(MinhaLista[1] == 'oi'):\n",
    "    print('O indice é um')\n",
    "if(MinhaLista[2] == 'oi'):\n",
    "    print('O indice é dois')\n",
    "elif(MinhaLista[3] == 'oi'):\n",
    "    print('O indice é três')\n",
    "if(MinhaLista[4] == 'oi'):\n",
    "    print('O indice é 4')\n",
    "elif(MinhaLista[5] == 'oi'):\n",
    "    print('O indice é 5')\n",
    "\n",
    "#E\n",
    "MinhaLista = [76, 92.3, 'oi', True, 4, 76]\n",
    "MinhaLista[0:3] + MinhaLista[4:] "
   ]
  },
  {
   "cell_type": "code",
   "execution_count": 88,
   "metadata": {},
   "outputs": [
    {
     "ename": "TypeError",
     "evalue": "can only concatenate list (not \"str\") to list",
     "output_type": "error",
     "traceback": [
      "\u001b[1;31m---------------------------------------------------------------------------\u001b[0m",
      "\u001b[1;31mTypeError\u001b[0m                                 Traceback (most recent call last)",
      "Cell \u001b[1;32mIn[88], line 2\u001b[0m\n\u001b[0;32m      1\u001b[0m MinhaLista \u001b[38;5;241m=\u001b[39m [\u001b[38;5;241m76\u001b[39m, \u001b[38;5;241m92.3\u001b[39m, \u001b[38;5;124m'\u001b[39m\u001b[38;5;124moi\u001b[39m\u001b[38;5;124m'\u001b[39m, \u001b[38;5;28;01mTrue\u001b[39;00m, \u001b[38;5;241m4\u001b[39m, \u001b[38;5;241m76\u001b[39m]\n\u001b[1;32m----> 2\u001b[0m \u001b[43mMinhaLista\u001b[49m\u001b[43m[\u001b[49m\u001b[38;5;241;43m2\u001b[39;49m\u001b[43m:\u001b[49m\u001b[43m]\u001b[49m\u001b[43m \u001b[49m\u001b[38;5;241;43m+\u001b[39;49m\u001b[43m \u001b[49m\u001b[38;5;124;43m'\u001b[39;49m\u001b[38;5;124;43mcibele\u001b[39;49m\u001b[38;5;124;43m'\u001b[39;49m\n\u001b[0;32m      3\u001b[0m  \u001b[38;5;66;03m#Inserindo valor no indice 3, COM STRING\u001b[39;00m\n",
      "\u001b[1;31mTypeError\u001b[0m: can only concatenate list (not \"str\") to list"
     ]
    }
   ],
   "source": [
    "MinhaLista = [76, 92.3, 'oi', True, 4, 76]\n",
    "MinhaLista[2:] + 'cibele'\n",
    " #Inserindo valor no indice 3, COM STRING"
   ]
  },
  {
   "cell_type": "code",
   "execution_count": 94,
   "metadata": {},
   "outputs": [
    {
     "data": {
      "text/plain": [
       "[99, 92.3, 'oi', 'pitomba', 76]"
      ]
     },
     "execution_count": 94,
     "metadata": {},
     "output_type": "execute_result"
    }
   ],
   "source": [
    "#C\n",
    "MinhaLista = [76, 92.3, 'oi', True, 4, 76]\n",
    "NovaLista = [99]\n",
    "\n",
    "NovaLista[:] + MinhaLista[1:3] + Inserirvalor #Inserindo o valor no indice 0, REALIZEI COM CRIAÇÃO DE LISTA"
   ]
  },
  {
   "cell_type": "code",
   "execution_count": 97,
   "metadata": {},
   "outputs": [
    {
     "name": "stdout",
     "output_type": "stream",
     "text": [
      "O indice é dois\n"
     ]
    }
   ],
   "source": [
    "#D\n",
    "MinhaLista = [76, 92.3, 'oi', True, 4, 76]\n",
    "if(MinhaLista[0] == 'oi'):\n",
    "    print('O indice é zero')\n",
    "elif(MinhaLista[1] == 'oi'):\n",
    "    print('O indice é um')\n",
    "if(MinhaLista[2] == 'oi'):\n",
    "    print('O indice é dois')\n",
    "elif(MinhaLista[3] == 'oi'):\n",
    "    print('O indice é três')\n",
    "if(MinhaLista[4] == 'oi'):\n",
    "    print('O indice é 4')\n",
    "elif(MinhaLista[5] == 'oi'):\n",
    "    print('O indice é 5')\n"
   ]
  },
  {
   "cell_type": "code",
   "execution_count": 131,
   "metadata": {},
   "outputs": [
    {
     "data": {
      "text/plain": [
       "[76, 92.3, 'oi', 4, 76]"
      ]
     },
     "execution_count": 131,
     "metadata": {},
     "output_type": "execute_result"
    }
   ],
   "source": [
    "#E\n",
    "MinhaLista = [76, 92.3, 'oi', True, 4, 76]\n",
    "MinhaLista[0:3] + MinhaLista[4:] \n"
   ]
  },
  {
   "cell_type": "code",
   "execution_count": 137,
   "metadata": {},
   "outputs": [
    {
     "name": "stdout",
     "output_type": "stream",
     "text": [
      "2\n",
      "1\n",
      "1\n"
     ]
    }
   ],
   "source": [
    "tupla_nomes = ('Marlene', 'Zezinho', 'Marlene', 'Cibele', 'Suely')\n",
    "print(tupla_nomes.count('Marlene'))\n",
    "print(tupla_nomes.count('Suely'))\n",
    "print(tupla_nomes.count('Zezinho'))"
   ]
  },
  {
   "cell_type": "code",
   "execution_count": 138,
   "metadata": {},
   "outputs": [
    {
     "name": "stdout",
     "output_type": "stream",
     "text": [
      "3\n"
     ]
    }
   ],
   "source": [
    "tupla_number = (1,2,2,3,4,4,4,5)\n",
    "print(tupla_number.count(4)) #tuple é mais estática e a lista é flexível, pode mexer"
   ]
  },
  {
   "cell_type": "code",
   "execution_count": null,
   "metadata": {},
   "outputs": [],
   "source": []
  }
 ],
 "metadata": {
  "kernelspec": {
   "display_name": "Python 3",
   "language": "python",
   "name": "python3"
  },
  "language_info": {
   "codemirror_mode": {
    "name": "ipython",
    "version": 3
   },
   "file_extension": ".py",
   "mimetype": "text/x-python",
   "name": "python",
   "nbconvert_exporter": "python",
   "pygments_lexer": "ipython3",
   "version": "3.11.9"
  }
 },
 "nbformat": 4,
 "nbformat_minor": 2
}
