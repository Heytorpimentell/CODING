{
 "cells": [
  {
   "cell_type": "code",
   "execution_count": null,
   "metadata": {},
   "outputs": [],
   "source": [
    "def soma(n1, n2):\n",
    "    return n1 + n2\n",
    "\n",
    "def subtrai(n1, n2):\n",
    "    return n1 - n2\n",
    "\n",
    "def mutiplica(n1, n2):\n",
    "    return n1 * n2\n",
    "\n",
    "def divide(n1, n2):\n",
    "    return n1 / n2\n",
    "\n",
    "while True:\n",
    "    print('===========================')\n",
    "    print('|    MENU DE OPREÇÕES      |')\n",
    "    print('|        1 - SOMAR         ')\n",
    "    print('|        2 - SUBTRAIR      ')\n",
    "    print('|        3 - MUTIPLICAR    ')\n",
    "    print('|        4 - DIVIDIR       ')\n",
    "    print('|        0 - SAIR          ')\n",
    "    print('===========================')\n",
    "    \n",
    "    op = int(input())\n",
    "    if op == 0:\n",
    "        break\n",
    "\n",
    "    n1 = int(input('Primeiro número:'))\n",
    "    n2 = int(input('Segundo número:'))\n",
    "\n",
    "    if op == 1:\n",
    "        print('Resultado da soma é:', soma(n1, n2))\n",
    "    elif op == 2:\n",
    "        print('Resultado da subtração é:', subtrai(n1,n2))\n",
    "    elif op == 3:\n",
    "        print('Resultado da multiplicação é:', mutiplica(n1, n2))\n",
    "    elif op == 4:\n",
    "        print('Resultado da divisão é:', divide(n1, n2))\n"
   ]
  }
 ],
 "metadata": {
  "kernelspec": {
   "display_name": "Python 3",
   "language": "python",
   "name": "python3"
  },
  "language_info": {
   "name": "python",
   "version": "3.11.2"
  }
 },
 "nbformat": 4,
 "nbformat_minor": 2
}
