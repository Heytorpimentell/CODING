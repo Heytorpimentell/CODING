{
 "cells": [
  {
   "cell_type": "code",
   "execution_count": null,
   "metadata": {},
   "outputs": [],
   "source": [
    "1) Qual é o valor impresso ao final da seguinte sequência de comandos? \n",
    "dia = “quinta-feira”\n",
    "dia = 32.5\n",
    "print(dia)\n",
    "dia = 19\n",
    "\n",
    "c) 32.5;"
   ]
  },
  {
   "cell_type": "code",
   "execution_count": null,
   "metadata": {},
   "outputs": [],
   "source": [
    "2) Verdadeiro ou falso: o seguinte nome é legal para uma variável em Python: Uma_boa_nota_é_A+\n",
    "\n",
    "Falso\n"
   ]
  },
  {
   "cell_type": "code",
   "execution_count": null,
   "metadata": {},
   "outputs": [],
   "source": [
    "3) O que imprime o seguinte comando?\n",
    " print((18 // 4), (18 % 4), (18/4)) \n",
    "\n",
    "c) 4, 2, 4.5 ;\n"
   ]
  },
  {
   "cell_type": "code",
   "execution_count": null,
   "metadata": {},
   "outputs": [],
   "source": [
    "4) O que é impresso pelo seguinte comando?\n",
    "n = input(\"Por favor, entre com sua idade:\") # usuário entra com 18\n",
    "print (type(n)) \n",
    "\n",
    "b) <class 'str'>;\n"
   ]
  },
  {
   "cell_type": "code",
   "execution_count": null,
   "metadata": {},
   "outputs": [],
   "source": [
    "5) Qual é o valor das expressões a seguir?\n",
    "x = 16 - 2 * 5 // 3 + 1\n",
    "y = 2 ** 2 ** 3 * 3\n",
    "print(x, y)\n",
    "\n",
    "c) 14, 192;\n"
   ]
  },
  {
   "cell_type": "code",
   "execution_count": null,
   "metadata": {},
   "outputs": [],
   "source": [
    "6) O que é impresso pelo comando a seguir?:\n",
    "x = 12\n",
    "x -= 1\n",
    "print(x) \n",
    "\n",
    "d) Nada. Ocorre um erro pois x não pode ser igual a x - 1."
   ]
  }
 ],
 "metadata": {
  "kernelspec": {
   "display_name": "Python 3",
   "language": "python",
   "name": "python3"
  },
  "language_info": {
   "codemirror_mode": {
    "name": "ipython",
    "version": 3
   },
   "file_extension": ".py",
   "mimetype": "text/x-python",
   "name": "python",
   "nbconvert_exporter": "python",
   "pygments_lexer": "ipython3",
   "version": "3.11.2"
  }
 },
 "nbformat": 4,
 "nbformat_minor": 2
}
