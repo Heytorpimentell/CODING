{
 "cells": [
  {
   "cell_type": "code",
   "execution_count": null,
   "metadata": {},
   "outputs": [],
   "source": [
    "1) Qual é o valor impresso ao final da seguinte sequência de comandos? \n",
    "dia = “quinta-feira”\n",
    "dia = 32.5\n",
    "print(dia)\n",
    "dia = 19\n",
    "\n",
    "c) 32.5;"
   ]
  },
  {
   "cell_type": "code",
   "execution_count": null,
   "metadata": {},
   "outputs": [],
   "source": [
    "2) Verdadeiro ou falso: o seguinte nome é legal para uma variável em Python: Uma_boa_nota_é_A+\n",
    "\n",
    "Falso\n"
   ]
  },
  {
   "cell_type": "code",
   "execution_count": null,
   "metadata": {},
   "outputs": [],
   "source": [
    "3) O que imprime o seguinte comando?\n",
    " print((18 // 4), (18 % 4), (18/4)) \n",
    "\n",
    "c) 4, 2, 4.5 ;\n"
   ]
  },
  {
   "cell_type": "code",
   "execution_count": null,
   "metadata": {},
   "outputs": [],
   "source": [
    "4) O que é impresso pelo seguinte comando?\n",
    "n = input(\"Por favor, entre com sua idade:\") # usuário entra com 18\n",
    "print (type(n)) \n",
    "\n",
    "b) <class 'str'>;\n"
   ]
  },
  {
   "cell_type": "code",
   "execution_count": null,
   "metadata": {},
   "outputs": [],
   "source": [
    "5) Qual é o valor das expressões a seguir?\n",
    "x = 16 - 2 * 5 // 3 + 1\n",
    "y = 2 ** 2 ** 3 * 3\n",
    "print(x, y)\n",
    "\n",
    "c) 14, 192;\n"
   ]
  },
  {
   "cell_type": "code",
   "execution_count": null,
   "metadata": {},
   "outputs": [],
   "source": [
    "6) O que é impresso pelo comando a seguir?:\n",
    "x = 12\n",
    "x -= 1\n",
    "print(x) \n",
    "\n",
    "d) Nada. Ocorre um erro pois x não pode ser igual a x - 1."
   ]
  },
  {
   "cell_type": "code",
   "execution_count": null,
   "metadata": {},
   "outputs": [],
   "source": [
    "nome = input('Qual seu nome?') #var tipo str"
   ]
  },
  {
   "cell_type": "code",
   "execution_count": null,
   "metadata": {},
   "outputs": [],
   "source": [
    "resultadodasoma = n1 + n2\n",
    "n1 = input(int('Digite o primeiro número'))\n",
    "n2 = input(int('Digite o segundo número'))\n",
    "print(resultadodasoma)\n",
    "\n",
    "resultadodasub = n1 - n2\n",
    "n1 = input(int('Digite o primeiro número'))\n",
    "n2 = input(int('Digite o segundo número'))\n",
    "print(resultadodasub)"
   ]
  },
  {
   "cell_type": "code",
   "execution_count": null,
   "metadata": {},
   "outputs": [],
   "source": [
    "resultadodamulti = n1 * n2\n",
    "n1 = input(int('Digite o primeiro número'))\n",
    "n2 = input(int('Digite o segundo número'))\n",
    "print(resultadodamulti)"
   ]
  },
  {
   "cell_type": "code",
   "execution_count": null,
   "metadata": {},
   "outputs": [],
   "source": [
    "resultadodadiv = n1 / n2\n",
    "n1 = input(int('Digite o primeiro número')) #Inexata\n",
    "n2 = input(int('Digite o segundo número'))\n",
    "print(resultadodadiv)\n",
    "\n",
    "resultadodadiv2 = n1 // n2\n",
    "n1 = input(int('Digite o primeiro número')) #Exata\n",
    "n2 = input(int('Digite o segundo número'))\n",
    "print(resultadodadiv2)\n",
    "\n",
    "resultadorestodiv = n1 % n2\n",
    "n1 = input(int('Digite o primeiro número')) #Resto da divisão\n",
    "n2 = input(int('Digite o segundo número'))\n",
    "print(resultadorestodiv)"
   ]
  },
  {
   "cell_type": "code",
   "execution_count": null,
   "metadata": {},
   "outputs": [],
   "source": [
    "resultadoexpoente = n1 ** n2\n",
    "n1 = input(int('Digite o primeiro número')) #Expoente\n",
    "n2 = input(int('Digite o segundo número'))\n",
    "print(resultadoexpoente)"
   ]
  },
  {
   "cell_type": "code",
   "execution_count": null,
   "metadata": {},
   "outputs": [],
   "source": [
    "resultadoexpnumerica = 2 * (4 * 5) // 2"
   ]
  },
  {
   "cell_type": "code",
   "execution_count": null,
   "metadata": {},
   "outputs": [],
   "source": [
    "nome2 = 'Heytor'\n",
    "sobrenome = 'Pimentel'\n",
    "\n",
    "print(nome2 + ' ' + sobrenome)\n",
    "print('Olá, ' + nome2 + ' ' + sobrenome)"
   ]
  }
 ],
 "metadata": {
  "kernelspec": {
   "display_name": "Python 3",
   "language": "python",
   "name": "python3"
  },
  "language_info": {
   "codemirror_mode": {
    "name": "ipython",
    "version": 3
   },
   "file_extension": ".py",
   "mimetype": "text/x-python",
   "name": "python",
   "nbconvert_exporter": "python",
   "pygments_lexer": "ipython3",
   "version": "3.11.2"
  }
 },
 "nbformat": 4,
 "nbformat_minor": 2
}
