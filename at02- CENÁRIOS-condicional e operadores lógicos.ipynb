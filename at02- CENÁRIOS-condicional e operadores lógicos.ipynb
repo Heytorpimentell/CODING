{
 "cells": [
  {
   "cell_type": "code",
   "execution_count": 23,
   "metadata": {},
   "outputs": [
    {
     "name": "stdout",
     "output_type": "stream",
     "text": [
      "O produto do dobro pela metade do 2: 7.5 | A soma do triplo do primeiro vale: 12.0 | valor elevado ao cubo: 27.0\n"
     ]
    }
   ],
   "source": [
    "numero1 = int(input('Digite o número 1: '))\n",
    "numero2 = int(input('Digite o número 2: '))\n",
    "numero3 = float(input('Digite o número 3: '))\n",
    "\n",
    "produto = numero1 * 2 + numero2 / 2\n",
    "produto1 = numero1 * 3 + numero3\n",
    "produto2 = numero3 **3\n",
    "\n",
    "print('O produto do dobro pela metade do 2:', produto, '| A soma do triplo do primeiro vale:', produto1, '| valor elevado ao cubo:', produto2) "
   ]
  },
  {
   "cell_type": "code",
   "execution_count": 24,
   "metadata": {},
   "outputs": [
    {
     "name": "stdout",
     "output_type": "stream",
     "text": [
      "O valor é igual!\n"
     ]
    }
   ],
   "source": [
    "n1 = float(input('Digite o número 1: '))\n",
    "n2 = float(input('Digite o número 2: '))\n",
    "\n",
    "if (n1 > n2):\n",
    "    print('O número 1 é maior que o número2!')\n",
    "elif(n1 == n2):   \n",
    "    print('O valor é igual!')\n",
    "if (n2 > n1):\n",
    "    print('O número 2 é maior que o numero 1!')\n",
    "\n"
   ]
  },
  {
   "cell_type": "code",
   "execution_count": 27,
   "metadata": {},
   "outputs": [],
   "source": [
    "valor = float(input('Verificar positivo ou negativo, digite o valor: '))\n",
    "    \n",
    "if(valor > 0):\n",
    "    print('O, ', valor, 'é positivo!')\n",
    "elif\n",
    "    print('O, ', valor, 'é negativo!')"
   ]
  },
  {
   "cell_type": "code",
   "execution_count": 47,
   "metadata": {},
   "outputs": [
    {
     "name": "stdout",
     "output_type": "stream",
     "text": [
      "Reprovado!\n"
     ]
    }
   ],
   "source": [
    "nota1 = float(input('Digite sua n1: '))\n",
    "nota2 = float(input('Digite sua n2: '))\n",
    "\n",
    "if( (nota1 + nota2) / 2 >= 7):\n",
    "    print('Aprovado')\n",
    "else:\n",
    "    print('Reprovado!')"
   ]
  },
  {
   "cell_type": "code",
   "execution_count": 51,
   "metadata": {},
   "outputs": [
    {
     "name": "stdout",
     "output_type": "stream",
     "text": [
      "O 5.0  é o maior valor!\n"
     ]
    }
   ],
   "source": [
    "number1 = float(input('Digite o n1: '))\n",
    "number2 = float(input('Digite o n2: '))\n",
    "number3 = float(input('Digite o n3: '))\n",
    "\n",
    "if (number1 > number2) or (number1 > number3): #O NUMERO 1 SENDO MAIOR\n",
    "    print('O', number1, ' é o maior valor!')\n",
    "elif (number2 > number1) or (numero2 > number3): #NÚMERO 2 SENDO MAIOR\n",
    "    print('O', number2, ' é o maior valor!')\n",
    "else:\n",
    "    print('O', number3, ' é o maior valor!') #NÚMERO 2 SENDO MAIOR\n",
    "    "
   ]
  }
 ],
 "metadata": {
  "kernelspec": {
   "display_name": "Python 3",
   "language": "python",
   "name": "python3"
  },
  "language_info": {
   "codemirror_mode": {
    "name": "ipython",
    "version": 3
   },
   "file_extension": ".py",
   "mimetype": "text/x-python",
   "name": "python",
   "nbconvert_exporter": "python",
   "pygments_lexer": "ipython3",
   "version": "3.11.2"
  }
 },
 "nbformat": 4,
 "nbformat_minor": 2
}
