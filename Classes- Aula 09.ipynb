{
 "cells": [
  {
   "cell_type": "code",
   "execution_count": null,
   "metadata": {},
   "outputs": [],
   "source": [
    "#CRIANDO CLASSE CHAMADA LIVRO\n",
    "Class Livro():\n",
    "    #ESSE METODO VAI INICIALIZAR CADA OBJETO CRIADO A PARTIR DESTA CLASSE\n",
    "    #SELF INDICA QUE ESTES SÃO ATRIBUOS DOS OBJETOS\n",
    "    def __init__(self):\n",
    "        self.titulo = 'Misto quente'\n",
    "        self.isbn = 123456789\n",
    "    #METODOS SÃO FUNÇOES, QUE RECEBEM COMO PARAMETRO ATRIBUTOS DO OBJETO CRIADO\n",
    "    def Imprime(self):\n",
    "        print('Foi criado o livro %s e isbn %d' %(self.titulo, self.isbn))\n",
    "    \n"
   ]
  },
  {
   "cell_type": "code",
   "execution_count": null,
   "metadata": {},
   "outputs": [],
   "source": [
    "#CRIANDO CLASSE LIVRO COM PARAMETRO NO MÉTODO CONSTRUTOR\n",
    "Class Livro():\n",
    "    def __init__(self, titulo, autor, isbn):\n",
    "        self.titulo = titulo\n",
    "        self.autor = autor\n",
    "        self.isbn = isbn\n",
    "        print('Construtor chamado para criar um objeto desta classe')\n",
    "\n",
    "    def Imprimir(self):\n",
    "        print('Doi criado o livro %s e isbn %d' %(self.titulo, self.isbn))"
   ]
  },
  {
   "cell_type": "code",
   "execution_count": null,
   "metadata": {},
   "outputs": [],
   "source": [
    "#criando classe\n",
    "Class Animal():\n",
    "#metódo construtor\n",
    "    def __init__(self, nome, peso, cor):\n",
    "        #atributos\n",
    "        self.nome = nome\n",
    "        self.peso = peso\n",
    "        self.cor = cor\n",
    "    #função imprimir\n",
    "    def ImprimirDados(self):\n",
    "        return('Nome: %s \\npeso: %s' %(self.nome, self.peso))\n",
    "    \n",
    "    def latir(self, barulho):\n",
    "        print(barulho)"
   ]
  },
  {
   "cell_type": "code",
   "execution_count": null,
   "metadata": {},
   "outputs": [],
   "source": [
    "#istanciando um objeto cachorro\n",
    "cao = Animal('Marlene', 7.9, 'Caramelo')\n",
    "gato = Animal('Cibele', 4.5, 'Cinza')\n",
    "\n",
    "#chamando o método do objeto criado\n",
    "print(cao.imprimirDados)\n",
    "cao.latir('Au Au')\n",
    "\n",
    "print(gato.ImprimirDados)\n",
    "gato.latir('Miau')"
   ]
  }
 ],
 "metadata": {
  "kernelspec": {
   "display_name": "Python 3",
   "language": "python",
   "name": "python3"
  },
  "language_info": {
   "name": "python",
   "version": "3.11.2"
  }
 },
 "nbformat": 4,
 "nbformat_minor": 2
}
