{
 "cells": [
  {
   "cell_type": "code",
   "execution_count": null,
   "metadata": {},
   "outputs": [],
   "source": [
    "nome = str(input('Digite seu nome:')) #Usuário dita o nome\n",
    "ano = int(input('Digite o ano do carro:')) #Usauário digta o ano\n",
    "preço = float(input('Digite o valor do carro:')) #Usuário digita o preço\n",
    " \n",
    "if(preço < 1990): #Se for menor que 1990 faça 1% do preço que será a taxa\n",
    "    resultado = (1/100) * preço #resultado é a taxa\n",
    "elif(preço >= 1990): #Senão se for maior que ou igual a 1990 façã 1% do preço que será a taxa.\n",
    "    resultado = (1.5/100) * preço\n",
    " \n",
    "print(f'{nome}, o carro de ano: {ano}, contém uma taxa de:{resultado}') #mostra na tela os valores"
   ]
  },
  {
   "cell_type": "code",
   "execution_count": null,
   "metadata": {},
   "outputs": [],
   "source": [
    "nome = input('Digite seu nome:')\n",
    "salario = float(input('Digite seu salário:')) #Usuário digita o salário\n",
    "cargo = str(input('Digite seu cargo ou código:'))  #Usuário digita o cargo ou código                                          \n",
    " \n",
    "if(cargo == 'Gerente') or (cargo == 'gerente') or (cargo == 'GERENTE') or (cargo == '101'): #Se o usuário for gerente aumento em 10%\n",
    "    novosalario = (10/100 * salario) + salario\n",
    "elif(cargo == 'Engenheiro') or (cargo == 'engenheiro') or (cargo == 'ENGENHEIRO') or (cargo == '102'): #Se o usuário for engenheiro aumento em 12%\n",
    "    novosalario = (20/100 * salario) + salario\n",
    "elif(cargo == 'Técnico') or (cargo == 'técnico') or (cargo == 'TÉCNICO') or (cargo == 'TECNICO') or (cargo == 'tecnico') or (cargo == '102'): #Se o usuário for tecnico aumento em 30%\n",
    "    novosalario = (30/100 * salario) + salario\n",
    "else:\n",
    "    novosalario = (40/100 * salario) + salario #Se o usuário não for nenhum dos cargos acima gente aumento em 40%\n",
    " \n",
    "print(f'{nome}, seu salário antigo:{salario}, salário novo:{novosalario}, a diferença é:{novosalario - salario}') #mostra na tela os valores"
   ]
  }
 ],
 "metadata": {
  "kernelspec": {
   "display_name": "Python 3",
   "language": "python",
   "name": "python3"
  },
  "language_info": {
   "name": "python",
   "version": "3.11.2"
  }
 },
 "nbformat": 4,
 "nbformat_minor": 2
}
