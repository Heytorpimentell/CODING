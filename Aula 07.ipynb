{
 "cells": [
  {
   "cell_type": "code",
   "execution_count": 1,
   "metadata": {},
   "outputs": [
    {
     "name": "stdout",
     "output_type": "stream",
     "text": [
      "5 patinho foi passear além das montanhas para brincar, a mamãe gritou: quá, quá, quá, quá mas só 4 patinhos voltaram de lá.\n",
      "5 patinhos foram passear além das montanhas para brincar, a mamãe gritou: quá, quá, quá, quá mas só 5 patinhos voltaram de lá.\n",
      "4 patinho foi passear além das montanhas para brincar, a mamãe gritou: quá, quá, quá, quá mas só 3 patinhos voltaram de lá.\n",
      "4 patinhos foram passear além das montanhas para brincar, a mamãe gritou: quá, quá, quá, quá mas só 4 patinhos voltaram de lá.\n",
      "3 patinho foi passear além das montanhas para brincar, a mamãe gritou: quá, quá, quá, quá mas só 2 patinhos voltaram de lá.\n",
      "3 patinhos foram passear além das montanhas para brincar, a mamãe gritou: quá, quá, quá, quá mas só 3 patinhos voltaram de lá.\n",
      "2 patinho foi passear além das montanhas para brincar, a mamãe gritou: quá, quá, quá, quá mas só 1 patinhos voltaram de lá.\n",
      "2 patinhos foram passear além das montanhas para brincar, a mamãe gritou: quá, quá, quá, quá mas só 2 patinhos voltaram de lá.\n",
      "1 patinho foi passear além das montanhas para brincar, a mamãe gritou: quá, quá, quá, quá mas só 0 patinhos voltaram de lá.\n",
      "1 patinho foi passear além das montanhas para brincar, a mamãe gritou: quá, quá, quá, quá mas nenhum patinho voltaram de lá.\n"
     ]
    }
   ],
   "source": [
    "for patinhos in [5, 4 , 3, 2, 1]:\n",
    "    print(patinhos, 'patinho foi passear além das montanhas para brincar, a mamãe gritou: quá, quá, quá, quá mas só', patinhos - 1, 'patinhos voltaram de lá.') #errado!\n",
    "    if (patinhos == 1):\n",
    "        print(patinhos, 'patinho foi passear além das montanhas para brincar, a mamãe gritou: quá, quá, quá, quá mas nenhum patinho voltaram de lá.')\n",
    "    else:\n",
    "        print(patinhos, 'patinhos foram passear além das montanhas para brincar, a mamãe gritou: quá, quá, quá, quá mas só', patinhos, 'patinhos voltaram de lá.') \n"
   ]
  },
  {
   "cell_type": "code",
   "execution_count": 18,
   "metadata": {},
   "outputs": [
    {
     "name": "stdout",
     "output_type": "stream",
     "text": [
      "5 patinhos foram passear além das montanhas para brincar, a mamãe gritou: quá, quá, quá, quá mas só 5 patinhos voltaram de lá.\n",
      "4 patinhos foram passear além das montanhas para brincar, a mamãe gritou: quá, quá, quá, quá mas só 4 patinhos voltaram de lá.\n",
      "3 patinhos foram passear além das montanhas para brincar, a mamãe gritou: quá, quá, quá, quá mas só 3 patinhos voltaram de lá.\n",
      "2 patinhos foram passear além das montanhas para brincar, a mamãe gritou: quá, quá, quá, quá mas só 2 patinhos voltaram de lá.\n",
      "1 patinho foi passear além das montanhas para brincar, a mamãe gritou: quá, quá, quá, quá mas nenhum patinho voltaram de lá.\n"
     ]
    }
   ],
   "source": [
    "for patinhos in [5, 4 , 3, 2, 1]:\n",
    "    if (patinhos == 1):\n",
    "        print(patinhos, 'patinho foi passear além das montanhas para brincar, a mamãe gritou: quá, quá, quá, quá mas nenhum patinho voltaram de lá.') #FRASE SINGULAR\n",
    "    else:\n",
    "        print(patinhos, 'patinhos foram passear além das montanhas para brincar, a mamãe gritou: quá, quá, quá, quá mas só', patinhos, 'patinhos voltou de lá.') #FRASE PLURAL, SE FOR MAIOR QUE 1"
   ]
  },
  {
   "cell_type": "code",
   "execution_count": 6,
   "metadata": {},
   "outputs": [
    {
     "name": "stdout",
     "output_type": "stream",
     "text": [
      "1 elefante incomoda muita gente\n",
      "2 elefantes incomodam, incomodam muito mais!\n",
      "3 elefante incomodam muita gente\n",
      "3 elefantes incomodam, incomodam incomodam  muito mais!\n",
      "4 elefante incomodam muita gente\n",
      "4 elefantes incomodam, incomodam incomodam incomodam  muito mais!\n",
      "5 elefante incomodam muita gente\n",
      "5 elefantes incomodam, incomodam incomodam incomodam incomodam  muito mais!\n",
      "6 elefante incomodam muita gente\n",
      "6 elefantes incomodam, incomodam incomodam incomodam incomodam incomodam  muito mais!\n",
      "7 elefante incomodam muita gente\n",
      "7 elefantes incomodam, incomodam incomodam incomodam incomodam incomodam incomodam  muito mais!\n",
      "8 elefante incomodam muita gente\n",
      "8 elefantes incomodam, incomodam incomodam incomodam incomodam incomodam incomodam incomodam  muito mais!\n",
      "9 elefante incomodam muita gente\n",
      "9 elefantes incomodam, incomodam incomodam incomodam incomodam incomodam incomodam incomodam incomodam  muito mais!\n",
      "10 elefante incomodam muita gente\n",
      "10 elefantes incomodam, incomodam incomodam incomodam incomodam incomodam incomodam incomodam incomodam incomodam  muito mais!\n"
     ]
    }
   ],
   "source": [
    "for elefante in [1 , 2, 3, 4, 5, 6, 7 , 8, 9]:\n",
    "    if (elefante == 1):\n",
    "        contador = elefante + 1\n",
    "        print(elefante, 'elefante incomoda muita gente')\n",
    "        print(contador, 'elefantes incomodam,', 'incomodam' * elefante, 'muito mais!')\n",
    "    elif (elefante > 1):\n",
    "        contador = elefante + 1\n",
    "        print(contador, 'elefante incomodam muita gente')\n",
    "        print(contador, 'elefantes incomodam,', 'incomodam ' * elefante, 'muito mais!')\n",
    "    \n",
    "\n"
   ]
  },
  {
   "cell_type": "code",
   "execution_count": 11,
   "metadata": {},
   "outputs": [
    {
     "name": "stdout",
     "output_type": "stream",
     "text": [
      "Mariana conta um\n",
      "Mariana conta um , é um , é um  ,é\n",
      "Ana, viva a Mariana, viva a Mariana\n",
      "Mariana conta dois\n",
      "Mariana conta dois , é dois , é dois  ,é\n",
      "Ana, viva a Mariana, viva a Mariana\n",
      "Mariana conta três\n",
      "Mariana conta três , é três , é três  ,é\n",
      "Ana, viva a Mariana, viva a Mariana\n",
      "Mariana conta quatro\n",
      "Mariana conta quatro , é quatro , é quatro  ,é\n",
      "Ana, viva a Mariana, viva a Mariana\n",
      "Mariana conta cinco\n",
      "Mariana conta cinco , é cinco , é cinco  ,é\n",
      "Ana, viva a Mariana, viva a Mariana\n",
      "Mariana conta seis\n",
      "Mariana conta seis , é seis , é seis  ,é\n",
      "Ana, viva a Mariana, viva a Mariana\n",
      "Mariana conta sete\n",
      "Mariana conta sete , é sete , é sete  ,é\n",
      "Ana, viva a Mariana, viva a Mariana\n",
      "Mariana conta oito\n",
      "Mariana conta oito , é oito , é oito  ,é\n",
      "Ana, viva a Mariana, viva a Mariana\n",
      "Mariana conta nove\n",
      "Mariana conta nove , é nove , é nove  ,é\n",
      "Ana, viva a Mariana, viva a Mariana\n",
      "Mariana conta dez\n",
      "Mariana conta dez , é dez , é dez  ,é\n",
      "Ana, viva a Mariana, viva a Mariana\n"
     ]
    }
   ],
   "source": [
    "for mariana in ['um', 'dois', 'três', 'quatro', 'cinco', 'seis', 'sete', 'oito', 'nove', 'dez']:\n",
    "    print('Mariana conta', mariana)\n",
    "    print('Mariana conta', mariana, ', é', mariana, ', é', mariana, ' , é')\n",
    "    print('Ana, viva a Mariana, viva a Mariana')"
   ]
  }
 ],
 "metadata": {
  "kernelspec": {
   "display_name": "Python 3",
   "language": "python",
   "name": "python3"
  },
  "language_info": {
   "codemirror_mode": {
    "name": "ipython",
    "version": 3
   },
   "file_extension": ".py",
   "mimetype": "text/x-python",
   "name": "python",
   "nbconvert_exporter": "python",
   "pygments_lexer": "ipython3",
   "version": "3.11.2"
  }
 },
 "nbformat": 4,
 "nbformat_minor": 2
}
