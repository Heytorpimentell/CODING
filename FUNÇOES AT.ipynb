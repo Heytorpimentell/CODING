{
 "cells": [
  {
   "cell_type": "code",
   "execution_count": 5,
   "metadata": {},
   "outputs": [
    {
     "name": "stdout",
     "output_type": "stream",
     "text": [
      "nunero 0\n",
      "nunero 1\n",
      "nunero 2\n",
      "nunero 3\n",
      "nunero 4\n"
     ]
    }
   ],
   "source": [
    "def funcaoLeitura(): #Função não exige parametro.\n",
    "    for num in range(5):\n",
    "        print('nunero', num)\n",
    "\n",
    "funcaoLeitura()"
   ]
  },
  {
   "cell_type": "code",
   "execution_count": 12,
   "metadata": {},
   "outputs": [
    {
     "name": "stdout",
     "output_type": "stream",
     "text": [
      "O primeiro número é: 2\n",
      "O segundo número é: 3\n",
      "O terceiro número é: 5\n"
     ]
    }
   ],
   "source": [
    "def addNum(n1, n2):\n",
    "    print('O primeiro número é:', n1)\n",
    "    print('O segundo número é:', n2)\n",
    "    print('O terceiro número é:', n1 + n2)\n",
    "\n",
    "addNum(2, 3) #Valor foi atribuido ao parametro"
   ]
  },
  {
   "cell_type": "code",
   "execution_count": 13,
   "metadata": {},
   "outputs": [
    {
     "name": "stdout",
     "output_type": "stream",
     "text": [
      "O primeiro número é: 4\n",
      "O segundo número é: 3\n",
      "O terceiro número é: 7\n"
     ]
    }
   ],
   "source": [
    "def addNum(n1, n2):\n",
    "    print('O primeiro número é:', n1)\n",
    "    print('O segundo número é:', n2)\n",
    "    print('O terceiro número é:', n1 + n2)\n",
    "\n",
    "addNum(4, 3)"
   ]
  },
  {
   "cell_type": "code",
   "execution_count": 14,
   "metadata": {},
   "outputs": [
    {
     "ename": "TypeError",
     "evalue": "addNum() missing 2 required positional arguments: 'n1' and 'n2'",
     "output_type": "error",
     "traceback": [
      "\u001b[1;31m---------------------------------------------------------------------------\u001b[0m",
      "\u001b[1;31mTypeError\u001b[0m                                 Traceback (most recent call last)",
      "Cell \u001b[1;32mIn[14], line 6\u001b[0m\n\u001b[0;32m      3\u001b[0m     \u001b[38;5;28mprint\u001b[39m(\u001b[38;5;124m'\u001b[39m\u001b[38;5;124mO segundo número é:\u001b[39m\u001b[38;5;124m'\u001b[39m, n2)\n\u001b[0;32m      4\u001b[0m     \u001b[38;5;28mprint\u001b[39m(\u001b[38;5;124m'\u001b[39m\u001b[38;5;124mO terceiro número é:\u001b[39m\u001b[38;5;124m'\u001b[39m, n1 \u001b[38;5;241m+\u001b[39m n2)\n\u001b[1;32m----> 6\u001b[0m \u001b[43maddNum\u001b[49m\u001b[43m(\u001b[49m\u001b[43m)\u001b[49m\n",
      "\u001b[1;31mTypeError\u001b[0m: addNum() missing 2 required positional arguments: 'n1' and 'n2'"
     ]
    }
   ],
   "source": [
    "def addNum(n1, n2):\n",
    "    print('O primeiro número é:', n1)\n",
    "    print('O segundo número é:', n2)\n",
    "    print('O terceiro número é:', n1 + n2)\n",
    "\n",
    "addNum() #Precisa haver valor atribuido ao parametro para funcionar."
   ]
  },
  {
   "cell_type": "code",
   "execution_count": 17,
   "metadata": {},
   "outputs": [
    {
     "name": "stdout",
     "output_type": "stream",
     "text": [
      "variavel da função mutiplica: 20\n",
      "10\n"
     ]
    }
   ],
   "source": [
    "varGlobal = 10  #Essa é uma variável global, funciona dentro e fora da função\n",
    "def mutiplicacao(num1, num2):\n",
    "    varGlobal = (num1 * num2)#Essa é uma variável local\n",
    "    print('variavel da função mutiplica:', varGlobal)\n",
    "\n",
    "mutiplicacao(5, 4) #Ocorreu dentro da função\n",
    "print(varGlobal) #Ocorreu fora da função"
   ]
  },
  {
   "cell_type": "markdown",
   "metadata": {},
   "source": [
    "1) Jeito errado, pois o print esta acontecendo fora da função é como se tivessse executando algo fora da função."
   ]
  },
  {
   "cell_type": "code",
   "execution_count": 32,
   "metadata": {},
   "outputs": [
    {
     "ename": "NameError",
     "evalue": "name 'varLocal' is not defined",
     "output_type": "error",
     "traceback": [
      "\u001b[1;31m---------------------------------------------------------------------------\u001b[0m",
      "\u001b[1;31mNameError\u001b[0m                                 Traceback (most recent call last)",
      "Cell \u001b[1;32mIn[32], line 4\u001b[0m\n\u001b[0;32m      2\u001b[0m \u001b[38;5;28;01mdef\u001b[39;00m \u001b[38;5;21mmutiplicacao\u001b[39m(num1, num2):\n\u001b[0;32m      3\u001b[0m     varLocal \u001b[38;5;241m=\u001b[39m (num1 \u001b[38;5;241m*\u001b[39m num2)\u001b[38;5;66;03m#Essa é uma variável local\u001b[39;00m\n\u001b[1;32m----> 4\u001b[0m \u001b[38;5;28mprint\u001b[39m(\u001b[38;5;124m'\u001b[39m\u001b[38;5;124mvariavel da função mutiplica:\u001b[39m\u001b[38;5;124m'\u001b[39m, \u001b[43mvarLocal\u001b[49m)\n\u001b[0;32m      5\u001b[0m mutiplicacao(\u001b[38;5;241m5\u001b[39m, \u001b[38;5;241m4\u001b[39m)\n",
      "\u001b[1;31mNameError\u001b[0m: name 'varLocal' is not defined"
     ]
    }
   ],
   "source": [
    "varGlobal = 10  #Essa é uma variável global, funciona dentro e fora da função\n",
    "def mutiplicacao(num1, num2):\n",
    "    varLocal = (num1 * num2)#Essa é uma variável local\n",
    "print('variavel da função mutiplica:', varLocal)\n",
    "mutiplicacao(5, 4) \n"
   ]
  },
  {
   "cell_type": "markdown",
   "metadata": {},
   "source": [
    "2)Jeito certo"
   ]
  },
  {
   "cell_type": "code",
   "execution_count": 31,
   "metadata": {},
   "outputs": [],
   "source": [
    "varGlobal = 10  #Essa é uma variável global, funciona dentro e fora da função\n",
    "def mutiplicacao(num1, num2):\n",
    "    varLocal = (num1 * num2)#Essa é uma variável local\n",
    "    print('variavel da função mutiplica:', varLocal)\n",
    "mutiplicacao(5, 4)\n"
   ]
  },
  {
   "cell_type": "code",
   "execution_count": 34,
   "metadata": {},
   "outputs": [
    {
     "data": {
      "text/plain": [
       "['HEYTOR', 'PIMENTEL', 'LINDO', 'DO', 'NASCIMENTO']"
      ]
     },
     "execution_count": 34,
     "metadata": {},
     "output_type": "execute_result"
    }
   ],
   "source": [
    "def separarTexto(texto): #Função separar texto\n",
    "    return texto.split()\n",
    "separarTexto('HEYTOR PIMENTEL LINDO DO NASCIMENTO') #A diferença da função pro metódo é forma como é chamada, OBJETO.split(metodo) | função(n1, n2)"
   ]
  },
  {
   "cell_type": "code",
   "execution_count": 43,
   "metadata": {},
   "outputs": [
    {
     "name": "stdout",
     "output_type": "stream",
     "text": [
      "parametro 0 Heytor\n",
      "parametro 1 pimentel\n",
      "parametro 2 nascimento\n",
      "parametro 3 lindo\n"
     ]
    }
   ],
   "source": [
    "def variosParametros(*parametros): #Quando não sabemos a quantidade de parametros\n",
    "    for n, item in enumerate(parametros):\n",
    "        print('parametro', n, item)\n",
    "    return\n",
    "variosParametros('Heytor', 'pimentel', 'nascimento', 'lindo')"
   ]
  },
  {
   "cell_type": "code",
   "execution_count": 2,
   "metadata": {},
   "outputs": [
    {
     "name": "stdout",
     "output_type": "stream",
     "text": [
      "===========================\n",
      "|    MENU DE OPREÇÕES      |\n",
      "|        1 - SOMAR         \n",
      "|        2 - SUBTRAIR      \n",
      "|        3 - MUTIPLICAR    \n",
      "|        4 - DIVIDIR       \n",
      "|        0 - SAIR          \n",
      "===========================\n"
     ]
    },
    {
     "ename": "ValueError",
     "evalue": "invalid literal for int() with base 10: ''",
     "output_type": "error",
     "traceback": [
      "\u001b[1;31m---------------------------------------------------------------------------\u001b[0m",
      "\u001b[1;31mValueError\u001b[0m                                Traceback (most recent call last)",
      "Cell \u001b[1;32mIn[2], line 23\u001b[0m\n\u001b[0;32m     20\u001b[0m \u001b[38;5;28mprint\u001b[39m(\u001b[38;5;124m'\u001b[39m\u001b[38;5;124m|        0 - SAIR          \u001b[39m\u001b[38;5;124m'\u001b[39m)\n\u001b[0;32m     21\u001b[0m \u001b[38;5;28mprint\u001b[39m(\u001b[38;5;124m'\u001b[39m\u001b[38;5;124m===========================\u001b[39m\u001b[38;5;124m'\u001b[39m)\n\u001b[1;32m---> 23\u001b[0m n1 \u001b[38;5;241m=\u001b[39m \u001b[38;5;28;43mint\u001b[39;49m\u001b[43m(\u001b[49m\u001b[38;5;28;43minput\u001b[39;49m\u001b[43m(\u001b[49m\u001b[38;5;124;43m'\u001b[39;49m\u001b[38;5;124;43mPrimeiro número:\u001b[39;49m\u001b[38;5;124;43m'\u001b[39;49m\u001b[43m)\u001b[49m\u001b[43m)\u001b[49m\n\u001b[0;32m     24\u001b[0m n2 \u001b[38;5;241m=\u001b[39m \u001b[38;5;28mint\u001b[39m(\u001b[38;5;28minput\u001b[39m(\u001b[38;5;124m'\u001b[39m\u001b[38;5;124mSegundo número:\u001b[39m\u001b[38;5;124m'\u001b[39m))\n\u001b[0;32m     27\u001b[0m op \u001b[38;5;241m=\u001b[39m \u001b[38;5;28mint\u001b[39m(\u001b[38;5;28minput\u001b[39m())\n",
      "\u001b[1;31mValueError\u001b[0m: invalid literal for int() with base 10: ''"
     ]
    }
   ],
   "source": [
    "def soma(n1, n2):\n",
    "    return n1 + n2\n",
    "\n",
    "def subtrai(n1, n2):\n",
    "    return n1 - n2\n",
    "\n",
    "def mutiplica(n1, n2):\n",
    "    return n1 * num2\n",
    "\n",
    "def divide(n1, n2):\n",
    "    return n1 / n2\n",
    "\n",
    "while True:\n",
    "    print('===========================')\n",
    "    print('|    MENU DE OPREÇÕES      |')\n",
    "    print('|        1 - SOMAR         ')\n",
    "    print('|        2 - SUBTRAIR      ')\n",
    "    print('|        3 - MUTIPLICAR    ')\n",
    "    print('|        4 - DIVIDIR       ')\n",
    "    print('|        0 - SAIR          ')\n",
    "    print('===========================')\n",
    "    \n",
    "    op = int(input())\n",
    "    if op == 0:\n",
    "        break\n",
    "\n",
    "    n1 = int(input('Primeiro número:'))\n",
    "    n2 = int(input('Segundo número:'))\n",
    "\n",
    "    if op == 1:\n",
    "        print('Resultado da soma é:', soma(n1, n2))\n",
    "    elif op == 2:\n",
    "        print('Resultado da subtração é:', subtrai(n1,n2))\n",
    "    elif op == 3:\n",
    "        print('Resultado da multiplicação é:', mutiplicar(n1, n2))\n",
    "    elif op == 4:\n",
    "        print('Resultado da divisão é:', dividir(n1, n2))"
   ]
  }
 ],
 "metadata": {
  "kernelspec": {
   "display_name": "Python 3",
   "language": "python",
   "name": "python3"
  },
  "language_info": {
   "codemirror_mode": {
    "name": "ipython",
    "version": 3
   },
   "file_extension": ".py",
   "mimetype": "text/x-python",
   "name": "python",
   "nbconvert_exporter": "python",
   "pygments_lexer": "ipython3",
   "version": "3.11.9"
  }
 },
 "nbformat": 4,
 "nbformat_minor": 2
}
