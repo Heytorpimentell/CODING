{
 "cells": [
  {
   "cell_type": "code",
   "execution_count": 34,
   "metadata": {},
   "outputs": [
    {
     "name": "stdout",
     "output_type": "stream",
     "text": [
      "Você tem uma consoante!\n"
     ]
    }
   ],
   "source": [
    "letraDigitada = input('Digite uma letra:')\n",
    "vogais = ['a', 'e', 'i', 'o', 'u', 'A', 'E', 'I', 'O', 'U']\n",
    "if (letraDigitada in vogais[:]): #In = dentro\n",
    "    print('Você tem uma vogal!')\n",
    "else:\n",
    "    print('Você tem uma consoante!')\n",
    "\n"
   ]
  },
  {
   "cell_type": "code",
   "execution_count": 42,
   "metadata": {},
   "outputs": [
    {
     "name": "stdout",
     "output_type": "stream",
     "text": [
      "Compre o primeiro produto!\n"
     ]
    }
   ],
   "source": [
    "produto1 = float(input('Qual o preço do 1 produto?'))\n",
    "produto2 = float(input('Qual o preço do 2 produto?'))\n",
    "produto3 = float(input('Qual o preço do 3 produto?'))\n",
    "\n",
    "if (produto1 < produto2) and (produto1 < produto3): #Se o produto1 tiver menor preço\n",
    "    print('Compre o primeiro produto!')\n",
    "elif (produto2 < produto3) and (produto2 < produto1): #Se o produto 2 tiver o menor preço\n",
    "    print('Compre o segundo produto!')\n",
    "else:\n",
    "    print('Compre o terceiro produto!') #Se o produto 1 ou produto 2 não tiver com menor preço compre o produto 3"
   ]
  },
  {
   "cell_type": "code",
   "execution_count": 45,
   "metadata": {},
   "outputs": [
    {
     "name": "stdout",
     "output_type": "stream",
     "text": [
      "10.0 2.0 1.0\n"
     ]
    }
   ],
   "source": [
    "n1 = float(input('Digite o valor 1:'))\n",
    "n2 = float(input('Digite o valor 2:'))\n",
    "n3 = float(input('Digite o valor 3:'))\n",
    "\n",
    "if (n1 > n2 > n3):\n",
    "    print(n1, n2, n3)\n",
    "elif (n2 > n1 > n3):\n",
    "    print(n2, n1, n3)\n",
    "else:\n",
    "    print(n3, n2, n1)"
   ]
  },
  {
   "cell_type": "code",
   "execution_count": 135,
   "metadata": {},
   "outputs": [
    {
     "name": "stdout",
     "output_type": "stream",
     "text": [
      "Boa noite!\n"
     ]
    }
   ],
   "source": [
    "turnoDigitado = str(input('Qual seu turno: matutino[m], vespertino[v], noturno[n]'))\n",
    "turno = ['m', 'v', 'n']\n",
    "\n",
    "if (turnoDigitado == turno[0]):\n",
    "    print('Bom dia!')\n",
    "elif (turnoDigitado == turno[1]):\n",
    "    print('Boa tarde!')\n",
    "elif (turnoDigitado == turno[2]):\n",
    "    print('Boa noite!')"
   ]
  },
  {
   "cell_type": "code",
   "execution_count": 7,
   "metadata": {},
   "outputs": [
    {
     "name": "stdout",
     "output_type": "stream",
     "text": [
      "4-Quarta\n"
     ]
    }
   ],
   "source": [
    "numeroDoDia = [1, 2 ,3 ,4, 5, 6, 7]\n",
    "numeroDoDiaDigitado = int(input('Digite o número referente ao dia da semana[1,2,3,4,5,6,7]:'))\n",
    "if (numeroDoDiaDigitado == numeroDoDia[0]):\n",
    "    print('1-Domingo')\n",
    "elif (numeroDoDiaDigitado == numeroDoDia[1]):\n",
    "    print('2-Segunda')\n",
    "elif (numeroDoDiaDigitado == numeroDoDia[2]):\n",
    "    print('3-Terça')\n",
    "elif (numeroDoDiaDigitado == numeroDoDia[3]):\n",
    "    print('4-Quarta')\n",
    "elif (numeroDoDiaDigitado == numeroDoDia[4]):\n",
    "    print('5-Quinta')\n",
    "elif (numeroDoDiaDigitado == numeroDoDia[5]):\n",
    "    print('6-Sexta')\n",
    "elif (numeroDoDiaDigitado == numeroDoDia[6]):\n",
    "    print('7-Sabádo')\n"
   ]
  },
  {
   "cell_type": "code",
   "execution_count": 44,
   "metadata": {},
   "outputs": [
    {
     "name": "stdout",
     "output_type": "stream",
     "text": [
      "REPROVADO!\n"
     ]
    }
   ],
   "source": [
    "nota1 = float(input('Digite sua nota 1:'))\n",
    "nota2 = float(input('Digite sua nota 2:'))\n",
    "media = (nota1 + nota2) / 2\n",
    "if (media >= 9.0):\n",
    "    print(' Conceito A')\n",
    "elif (media >= 7.5) and (media < 9.0):\n",
    "    print(' Conceito B')\n",
    "elif (media >= 6.0) and (media < 7.5):\n",
    "    print(' Conceito C')\n",
    "elif (media >= 4.0) and (media < 6.0):\n",
    "    print(' REPROVADO')\n",
    "else:\n",
    "    print('REPROVADO!')"
   ]
  },
  {
   "cell_type": "code",
   "execution_count": 43,
   "metadata": {},
   "outputs": [
    {
     "name": "stdout",
     "output_type": "stream",
     "text": [
      "Bissexto\n"
     ]
    }
   ],
   "source": [
    "ano = int(input('Ano: '))\n",
    "if (ano%4==0 and ano%100!=0) or (ano%400==0):\n",
    "    print('Bissexto')\n",
    "else:\n",
    "    print('Não é bissexto')\n"
   ]
  },
  {
   "cell_type": "code",
   "execution_count": 50,
   "metadata": {},
   "outputs": [
    {
     "name": "stdout",
     "output_type": "stream",
     "text": [
      "É par!\n",
      "É um número inteiro\n"
     ]
    }
   ],
   "source": [
    "n1 = float(input('Digite o n1:'))\n",
    "n2 = float(input('Digite o n2:'))\n",
    "operacao = input('Digite a operação que deseja fazer: Soma, Subtração, Multiplicação, Divisão, Exponenciação:')\n",
    "r = 0\n",
    "\n",
    "if (operacao == 'soma') and (r % 2 == 0):\n",
    "    r = n1 + n2\n",
    "    if (r % 2 == 0):\n",
    "        print('É par!')\n",
    "    else:\n",
    "        print('É impar!')\n",
    "    if (r < 0):\n",
    "        print('É um número decimal')\n",
    "    else:\n",
    "        print('É um número inteiro')\n",
    "elif (operacao == 'subtração'):\n",
    "    r = n1 - n2\n",
    "    if (r % 2 == 0):\n",
    "        print('É par!')\n",
    "    else:\n",
    "        print('É impar!')\n",
    "    if (r < 0):\n",
    "        print('É um número decimal')\n",
    "    else:\n",
    "        print('É um número inteiro')\n",
    "elif (operacao == 'divisão'):\n",
    "    r = n1 / n2 \n",
    "    if (r % 2 == 0):\n",
    "        print('É par!')\n",
    "    else:\n",
    "        print('É impar!')\n",
    "    if (r < 0):\n",
    "        print('É um número decimal')\n",
    "    else:\n",
    "        print('É um número inteiro')\n",
    "elif (operacao == 'multiplicação'):\n",
    "    r = n1 * n2\n",
    "    if (r % 2 == 0):\n",
    "        print('É par!')\n",
    "    else:\n",
    "        print('É impar!')\n",
    "    if (r < 0):\n",
    "        print('É um número decimal')\n",
    "    else:\n",
    "        print('É um número inteiro')\n",
    "else:\n",
    "    r = n1 ** n2\n",
    "    if (r % 2 == 0):\n",
    "        print('É par!')\n",
    "    else:\n",
    "        print('É impar!')\n",
    "    if (r < 0):\n",
    "        print('É um número decimal')\n",
    "    else:\n",
    "        print('É um número inteiro')\n"
   ]
  },
  {
   "cell_type": "code",
   "execution_count": 88,
   "metadata": {},
   "outputs": [],
   "source": [
    "idade = 0\n",
    "\n",
    "while idade <= 0 or idade > 150 :\n",
    "    idade = float(input('Digite sua idade:'))"
   ]
  },
  {
   "cell_type": "code",
   "execution_count": 102,
   "metadata": {},
   "outputs": [],
   "source": [
    "resultadoSoma = 0\n",
    "media = 0\n",
    "while resultadoSoma == 0 and media == 0:\n",
    "    n1 = float(input('Digite o 1 numero:'))\n",
    "    n2 = float(input('Digite o 2 numero:'))\n",
    "    n3 = float(input('Digite o 3 numero:'))\n",
    "    n4 = float(input('Digite o 4 numero:'))\n",
    "    n5 = float(input('Digite o 5 numero:'))\n",
    "    resultadoSoma = [n1 + n2 + n3 + n4 + n5]\n",
    "    media = [(n1 + n2 + n3 + n4 + n5) / 5]\n",
    "print('O resultado da soma:', resultadoSoma, 'resultado da média:' media)"
   ]
  },
  {
   "cell_type": "code",
   "execution_count": 5,
   "metadata": {},
   "outputs": [
    {
     "name": "stdout",
     "output_type": "stream",
     "text": [
      "O valor é primo\n"
     ]
    }
   ],
   "source": [
    "numero = int(input('Digite para ver se é número primo ou não:'))\n",
    "if (numero / numero == 1):\n",
    "    print('O valor é primo')\n",
    "else:\n",
    "    print('O valor não é primo')  #Fazer com estrtura de repetição"
   ]
  },
  {
   "cell_type": "code",
   "execution_count": 3,
   "metadata": {},
   "outputs": [],
   "source": [
    "#11\n",
    "temperatura = []\n",
    "tentativas = 0\n",
    "somatemperatura = 0\n",
    " \n",
    "while tentativas < 5:\n",
    "    temperaturaresposta = float(input('Digite a temperatura: '))\n",
    "    temperatura.append(temperaturaresposta) # Adicionando elementos à lista\n",
    "    somatemperatura = somatemperatura + temperaturaresposta\n",
    "    tentativas = tentativas + 1\n",
    " \n",
    "maior_temperatura = temperatura[0]\n",
    " \n",
    "for temperaturaresposta in temperatura:\n",
    "    if temperaturaresposta > maior_temperatura:\n",
    "        maior_temperatura = temperaturaresposta\n",
    " \n",
    "print('A temperatura', maior_temperatura, 'foi a maior registrada.')\n",
    " \n",
    "media = somatemperatura / 5\n",
    "print(media)\n"
   ]
  },
  {
   "cell_type": "code",
   "execution_count": 9,
   "metadata": {},
   "outputs": [
    {
     "name": "stdout",
     "output_type": "stream",
     "text": [
      "Saldo médio: 400.0 , crédito: 80.0\n"
     ]
    }
   ],
   "source": [
    "#12\n",
    "saldoMedioCliente = float(input('Digite seu saldo médio: '))\n",
    "creditoCliente = 0\n",
    "if(saldoMedioCliente >= 0) and (saldoMedioCliente <= 200):\n",
    "    creditoCliente = 0\n",
    "elif (saldoMedioCliente >= 201) and (saldoMedioCliente <= 400):\n",
    "    creditoCliente = saldoMedioCliente * 20/100\n",
    "elif(saldoMedioCliente >= 401) and (saldoMedioCliente <= 600):\n",
    "    creditoCliente = saldoMedioCliente * 30/100\n",
    "elif(saldoMedioCliente >= 601):\n",
    "    creditoCliente = saldoMedioCliente * 40/100\n",
    "\n",
    "print('Saldo médio:', saldoMedioCliente, ', crédito:', creditoCliente)\n"
   ]
  },
  {
   "cell_type": "code",
   "execution_count": 12,
   "metadata": {},
   "outputs": [
    {
     "name": "stdout",
     "output_type": "stream",
     "text": [
      "heytor , você não pode se aposentar, somente no ano: 2089\n"
     ]
    }
   ],
   "source": [
    "#13\n",
    "cidadao = str(input('Qual seu nome?'))\n",
    "idade = int(input('Qual sua idade?'))\n",
    "ano = int(input('Digite seu ano atual:'))\n",
    "\n",
    "if (idade < 65):\n",
    "    aposentadoria = ano + 65\n",
    "    print(cidadao, ',você não pode se aposentar, somente no ano:', aposentadoria)\n",
    "else:\n",
    "    print(cidadao, ', você pode')"
   ]
  },
  {
   "cell_type": "code",
   "execution_count": 9,
   "metadata": {},
   "outputs": [
    {
     "name": "stdout",
     "output_type": "stream",
     "text": [
      "Salário bruto: 2300.0  Salário luiquido: 2300.0\n"
     ]
    }
   ],
   "source": [
    "#14\n",
    "descontos = [0/100, 7.5/100, 15/100, 22.5/100, 27.5/100]\n",
    "salarioliquido = 0\n",
    "hora = float(input('Qual o valor de sua hora trabalhada?'))\n",
    "horaTrabalhadaAoMes = int(input('Qual a quantidade de horas trabalhadas ao mês?'))\n",
    "salarioBruto = hora * horaTrabalhadaAoMes\n",
    "if (salarioBruto >= 2.112,00):\n",
    "    salarioliquido = salarioBruto - descontos[0]\n",
    "elif (salarioBruto >= 2,112.01) and (salarioBruto <= 2.826,65):\n",
    "    salarioliquido = salarioBruto - descontos[1]\n",
    "elif (salarioBruto >= 2.826,66) and (salarioBruto <= 3.751,5):\n",
    "    salarioliquido = salarioBruto - descontos[2]\n",
    "elif (salarioBruto >= 3.751,6) and (salarioBruto <= 4.664,68):\n",
    "    salarioliquido = salarioBruto - descontos[3]\n",
    "elif (salarioBruto > 4.664,68):\n",
    "    salarioliquido = salarioBruto - descontos[4]\n",
    "\n",
    "print('Salário bruto:', salarioBruto, ' Salário luiquido:', salarioliquido)\n"
   ]
  }
 ],
 "metadata": {
  "kernelspec": {
   "display_name": "Python 3",
   "language": "python",
   "name": "python3"
  },
  "language_info": {
   "codemirror_mode": {
    "name": "ipython",
    "version": 3
   },
   "file_extension": ".py",
   "mimetype": "text/x-python",
   "name": "python",
   "nbconvert_exporter": "python",
   "pygments_lexer": "ipython3",
   "version": "3.11.2"
  }
 },
 "nbformat": 4,
 "nbformat_minor": 2
}
